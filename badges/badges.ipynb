{
 "cells": [
  {
   "cell_type": "code",
   "execution_count": 4,
   "metadata": {},
   "outputs": [],
   "source": [
    "import numpy as np\n",
    "import pandas as pd\n",
    "import seaborn as sns\n",
    "sns.set()\n",
    "from matplotlib import pyplot as plt"
   ]
  },
  {
   "cell_type": "code",
   "execution_count": 5,
   "metadata": {},
   "outputs": [],
   "source": [
    "def readBadgesData(path):\n",
    "    data = {\n",
    "        'plus': [],\n",
    "        'firstname': [],\n",
    "        'lastname': []\n",
    "    }\n",
    "    \n",
    "    with open(path, 'r') as f:\n",
    "        line = f.readline()\n",
    "        while line:\n",
    "            entry = line.split()\n",
    "            if len(entry) == 3 and len(entry[1]) >= 3 and len(entry[-1]) >= 3:\n",
    "                data['plus'].append(True if entry[0] == '+' else False)\n",
    "                data['firstname'].append(entry[1].lower())\n",
    "                data['lastname'].append(entry[-1].lower())\n",
    "            \n",
    "            line = f.readline()\n",
    "    \n",
    "    return pd.DataFrame(data)\n",
    "\n",
    "df = readBadgesData('./badges.txt')"
   ]
  },
  {
   "cell_type": "code",
   "execution_count": 6,
   "metadata": {},
   "outputs": [
    {
     "data": {
      "text/html": [
       "<div>\n",
       "<style scoped>\n",
       "    .dataframe tbody tr th:only-of-type {\n",
       "        vertical-align: middle;\n",
       "    }\n",
       "\n",
       "    .dataframe tbody tr th {\n",
       "        vertical-align: top;\n",
       "    }\n",
       "\n",
       "    .dataframe thead th {\n",
       "        text-align: right;\n",
       "    }\n",
       "</style>\n",
       "<table border=\"1\" class=\"dataframe\">\n",
       "  <thead>\n",
       "    <tr style=\"text-align: right;\">\n",
       "      <th></th>\n",
       "      <th>plus</th>\n",
       "      <th>firstname</th>\n",
       "      <th>lastname</th>\n",
       "    </tr>\n",
       "  </thead>\n",
       "  <tbody>\n",
       "    <tr>\n",
       "      <th>count</th>\n",
       "      <td>219</td>\n",
       "      <td>219</td>\n",
       "      <td>219</td>\n",
       "    </tr>\n",
       "    <tr>\n",
       "      <th>unique</th>\n",
       "      <td>2</td>\n",
       "      <td>182</td>\n",
       "      <td>215</td>\n",
       "    </tr>\n",
       "    <tr>\n",
       "      <th>top</th>\n",
       "      <td>True</td>\n",
       "      <td>david</td>\n",
       "      <td>gordon</td>\n",
       "    </tr>\n",
       "    <tr>\n",
       "      <th>freq</th>\n",
       "      <td>160</td>\n",
       "      <td>9</td>\n",
       "      <td>2</td>\n",
       "    </tr>\n",
       "  </tbody>\n",
       "</table>\n",
       "</div>"
      ],
      "text/plain": [
       "        plus firstname lastname\n",
       "count    219       219      219\n",
       "unique     2       182      215\n",
       "top     True     david   gordon\n",
       "freq     160         9        2"
      ]
     },
     "execution_count": 6,
     "metadata": {},
     "output_type": "execute_result"
    }
   ],
   "source": [
    "df.describe()"
   ]
  },
  {
   "cell_type": "code",
   "execution_count": 7,
   "metadata": {
    "scrolled": true
   },
   "outputs": [
    {
     "data": {
      "text/html": [
       "<div>\n",
       "<style scoped>\n",
       "    .dataframe tbody tr th:only-of-type {\n",
       "        vertical-align: middle;\n",
       "    }\n",
       "\n",
       "    .dataframe tbody tr th {\n",
       "        vertical-align: top;\n",
       "    }\n",
       "\n",
       "    .dataframe thead th {\n",
       "        text-align: right;\n",
       "    }\n",
       "</style>\n",
       "<table border=\"1\" class=\"dataframe\">\n",
       "  <thead>\n",
       "    <tr style=\"text-align: right;\">\n",
       "      <th></th>\n",
       "      <th>plus</th>\n",
       "      <th>firstname</th>\n",
       "      <th>lastname</th>\n",
       "    </tr>\n",
       "  </thead>\n",
       "  <tbody>\n",
       "    <tr>\n",
       "      <th>180</th>\n",
       "      <td>True</td>\n",
       "      <td>mark</td>\n",
       "      <td>schwabacher</td>\n",
       "    </tr>\n",
       "    <tr>\n",
       "      <th>93</th>\n",
       "      <td>True</td>\n",
       "      <td>wolfgang</td>\n",
       "      <td>janko</td>\n",
       "    </tr>\n",
       "    <tr>\n",
       "      <th>21</th>\n",
       "      <td>True</td>\n",
       "      <td>justin</td>\n",
       "      <td>boyan</td>\n",
       "    </tr>\n",
       "    <tr>\n",
       "      <th>74</th>\n",
       "      <td>True</td>\n",
       "      <td>marko</td>\n",
       "      <td>grobelnik</td>\n",
       "    </tr>\n",
       "    <tr>\n",
       "      <th>35</th>\n",
       "      <td>True</td>\n",
       "      <td>jeffery</td>\n",
       "      <td>clouse</td>\n",
       "    </tr>\n",
       "    <tr>\n",
       "      <th>201</th>\n",
       "      <td>True</td>\n",
       "      <td>tatsuo</td>\n",
       "      <td>unemi</td>\n",
       "    </tr>\n",
       "    <tr>\n",
       "      <th>137</th>\n",
       "      <td>False</td>\n",
       "      <td>steven</td>\n",
       "      <td>minton</td>\n",
       "    </tr>\n",
       "    <tr>\n",
       "      <th>14</th>\n",
       "      <td>True</td>\n",
       "      <td>george</td>\n",
       "      <td>berg</td>\n",
       "    </tr>\n",
       "    <tr>\n",
       "      <th>26</th>\n",
       "      <td>True</td>\n",
       "      <td>bill</td>\n",
       "      <td>byrne</td>\n",
       "    </tr>\n",
       "    <tr>\n",
       "      <th>113</th>\n",
       "      <td>True</td>\n",
       "      <td>martin</td>\n",
       "      <td>kummer</td>\n",
       "    </tr>\n",
       "  </tbody>\n",
       "</table>\n",
       "</div>"
      ],
      "text/plain": [
       "      plus firstname     lastname\n",
       "180   True      mark  schwabacher\n",
       "93    True  wolfgang        janko\n",
       "21    True    justin        boyan\n",
       "74    True     marko    grobelnik\n",
       "35    True   jeffery       clouse\n",
       "201   True    tatsuo        unemi\n",
       "137  False    steven       minton\n",
       "14    True    george         berg\n",
       "26    True      bill        byrne\n",
       "113   True    martin       kummer"
      ]
     },
     "execution_count": 7,
     "metadata": {},
     "output_type": "execute_result"
    }
   ],
   "source": [
    "df.sample(10)"
   ]
  },
  {
   "cell_type": "code",
   "execution_count": 30,
   "metadata": {},
   "outputs": [],
   "source": [
    "from string import ascii_lowercase\n",
    "\n",
    "def getLetterCounts(name):\n",
    "    letters_list = list(0 for _ in range(len(ascii_lowercase)))\n",
    "    for letter in name:\n",
    "        if letter in ascii_lowercase:\n",
    "            letters_list[ord(letter) - ord('a')] += 1\n",
    "    \n",
    "    return letters_list\n",
    "\n",
    "VOWELS = ['a', 'e', 'i', 'o', 'u', 'y']\n",
    "\n",
    "def getLettersType(name, maxlength):\n",
    "    \"\"\"1 if vower, -1 if consonant\"\"\"\n",
    "    assert len(name) <= maxlength\n",
    "    \n",
    "    arr = list(0 for _ in range(maxlength))\n",
    "    for i, letter in enumerate(name):\n",
    "        if letter in VOWELS:\n",
    "            arr[i] = 1\n",
    "        else:\n",
    "            arr[i] = -1\n",
    "    return arr"
   ]
  },
  {
   "cell_type": "code",
   "execution_count": 31,
   "metadata": {},
   "outputs": [
    {
     "data": {
      "text/plain": [
       "11"
      ]
     },
     "execution_count": 31,
     "metadata": {},
     "output_type": "execute_result"
    }
   ],
   "source": [
    "max_name_length = df['firstname'].apply(len).max()\n",
    "max_name_length"
   ]
  },
  {
   "cell_type": "code",
   "execution_count": 61,
   "metadata": {},
   "outputs": [
    {
     "data": {
      "text/plain": [
       "DecisionTreeClassifier(class_weight=None, criterion='entropy', max_depth=2,\n",
       "            max_features=None, max_leaf_nodes=None,\n",
       "            min_impurity_decrease=0.0, min_impurity_split=None,\n",
       "            min_samples_leaf=1, min_samples_split=2,\n",
       "            min_weight_fraction_leaf=0.0, presort=True, random_state=None,\n",
       "            splitter='best')"
      ]
     },
     "execution_count": 61,
     "metadata": {},
     "output_type": "execute_result"
    }
   ],
   "source": [
    "from sklearn.tree import DecisionTreeClassifier\n",
    "\n",
    "firstnameLetterType = np.array(list(df['firstname'].apply(getLettersType, maxlength=max_name_length)))\n",
    "\n",
    "X = firstnameLetterType\n",
    "feature_names = ['name[%d]' % i for i in range(max_name_length)] \n",
    "Y = df['plus'].values\n",
    "\n",
    "clf_tree = DecisionTreeClassifier(criterion='entropy', max_depth=2, presort=True)\n",
    "# clf_tree = DecisionTreeClassifier(max_depth=5)\n",
    "clf_tree.fit(X, Y)"
   ]
  },
  {
   "cell_type": "code",
   "execution_count": 48,
   "metadata": {},
   "outputs": [],
   "source": [
    "# from https://github.com/Yorko/mlcourse.ai/blob/master/jupyter_english/topic03_decision_trees_kNN/topic3_decision_trees_kNN.ipynb\n",
    "import pydotplus # pip install pydotplus\n",
    "from sklearn.tree import export_graphviz\n",
    "\n",
    "def tree_graph_to_png(tree, feature_names, png_file_to_save):\n",
    "    tree_str = export_graphviz(tree, feature_names=feature_names, \n",
    "                                     filled=True, out_file=None)\n",
    "    graph = pydotplus.graph_from_dot_data(tree_str)  \n",
    "    graph.write_png(png_file_to_save)"
   ]
  },
  {
   "cell_type": "code",
   "execution_count": 49,
   "metadata": {},
   "outputs": [],
   "source": [
    "tree_graph_to_png(tree=clf_tree, feature_names=feature_names, \n",
    "                  png_file_to_save='./tree1.png')"
   ]
  },
  {
   "cell_type": "markdown",
   "metadata": {},
   "source": [
    "![](./tree1.png)"
   ]
  },
  {
   "cell_type": "code",
   "execution_count": 52,
   "metadata": {},
   "outputs": [
    {
     "data": {
      "text/plain": [
       "plus         59\n",
       "firstname    59\n",
       "lastname     59\n",
       "dtype: int64"
      ]
     },
     "execution_count": 52,
     "metadata": {},
     "output_type": "execute_result"
    }
   ],
   "source": [
    "df[~df['plus']].count()"
   ]
  },
  {
   "cell_type": "code",
   "execution_count": 93,
   "metadata": {},
   "outputs": [
    {
     "data": {
      "text/html": [
       "<div>\n",
       "<style scoped>\n",
       "    .dataframe tbody tr th:only-of-type {\n",
       "        vertical-align: middle;\n",
       "    }\n",
       "\n",
       "    .dataframe tbody tr th {\n",
       "        vertical-align: top;\n",
       "    }\n",
       "\n",
       "    .dataframe thead th {\n",
       "        text-align: right;\n",
       "    }\n",
       "</style>\n",
       "<table border=\"1\" class=\"dataframe\">\n",
       "  <thead>\n",
       "    <tr style=\"text-align: right;\">\n",
       "      <th></th>\n",
       "      <th>plus</th>\n",
       "      <th>firstname</th>\n",
       "      <th>lastname</th>\n",
       "    </tr>\n",
       "  </thead>\n",
       "  <tbody>\n",
       "    <tr>\n",
       "      <th>1</th>\n",
       "      <td>False</td>\n",
       "      <td>myriam</td>\n",
       "      <td>abramson</td>\n",
       "    </tr>\n",
       "    <tr>\n",
       "      <th>103</th>\n",
       "      <td>False</td>\n",
       "      <td>jyrki</td>\n",
       "      <td>kivinen</td>\n",
       "    </tr>\n",
       "    <tr>\n",
       "      <th>114</th>\n",
       "      <td>False</td>\n",
       "      <td>eyal</td>\n",
       "      <td>kushilevitz</td>\n",
       "    </tr>\n",
       "  </tbody>\n",
       "</table>\n",
       "</div>"
      ],
      "text/plain": [
       "      plus firstname     lastname\n",
       "1    False    myriam     abramson\n",
       "103  False     jyrki      kivinen\n",
       "114  False      eyal  kushilevitz"
      ]
     },
     "execution_count": 93,
     "metadata": {},
     "output_type": "execute_result"
    }
   ],
   "source": [
    "a = np.c_[df.index.values.reshape(-1, 1), Y, X] \n",
    "a = a[a[:, 1] == 0] # sign is minus\n",
    "a = a[a[:, 3] == 1] # second letter is a vowel\n",
    "# df.iloc[a[]]\n",
    "df.iloc[a[:, 0]]"
   ]
  }
 ],
 "metadata": {
  "kernelspec": {
   "display_name": "Python [conda env:anaconda3]",
   "language": "python",
   "name": "conda-env-anaconda3-py"
  },
  "language_info": {
   "codemirror_mode": {
    "name": "ipython",
    "version": 3
   },
   "file_extension": ".py",
   "mimetype": "text/x-python",
   "name": "python",
   "nbconvert_exporter": "python",
   "pygments_lexer": "ipython3",
   "version": "3.6.7"
  }
 },
 "nbformat": 4,
 "nbformat_minor": 2
}
