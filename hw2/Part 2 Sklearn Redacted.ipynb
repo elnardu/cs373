{
 "cells": [
  {
   "cell_type": "code",
   "execution_count": 1,
   "metadata": {},
   "outputs": [],
   "source": [
    "from sklearn.tree import DecisionTreeClassifier\n",
    "from tqdm import tqdm\n",
    "\n",
    "import seaborn as sns\n",
    "sns.set()\n",
    "\n",
    "import matplotlib.pyplot as plt\n",
    "import numpy as np\n",
    "import pandas as pd"
   ]
  },
  {
   "cell_type": "code",
   "execution_count": 2,
   "metadata": {},
   "outputs": [],
   "source": [
    "%load_ext autoreload\n",
    "%autoreload 2\n",
    "from ID3 import *"
   ]
  },
  {
   "cell_type": "code",
   "execution_count": 3,
   "metadata": {},
   "outputs": [],
   "source": [
    "train_orig = load_data_and_label('titanic-train')\n",
    "test_orig = load_data_and_label('titanic-test')"
   ]
  },
  {
   "cell_type": "markdown",
   "metadata": {},
   "source": [
    "# Just to make sure that your data matches mine"
   ]
  },
  {
   "cell_type": "code",
   "execution_count": 4,
   "metadata": {},
   "outputs": [
    {
     "data": {
      "text/html": [
       "<div>\n",
       "<style scoped>\n",
       "    .dataframe tbody tr th:only-of-type {\n",
       "        vertical-align: middle;\n",
       "    }\n",
       "\n",
       "    .dataframe tbody tr th {\n",
       "        vertical-align: top;\n",
       "    }\n",
       "\n",
       "    .dataframe thead th {\n",
       "        text-align: right;\n",
       "    }\n",
       "</style>\n",
       "<table border=\"1\" class=\"dataframe\">\n",
       "  <thead>\n",
       "    <tr style=\"text-align: right;\">\n",
       "      <th></th>\n",
       "      <th>Pclass</th>\n",
       "      <th>Sex</th>\n",
       "      <th>Age</th>\n",
       "      <th>Fare</th>\n",
       "      <th>Embarked</th>\n",
       "      <th>relatives</th>\n",
       "      <th>IsAlone</th>\n",
       "      <th>Label</th>\n",
       "    </tr>\n",
       "  </thead>\n",
       "  <tbody>\n",
       "    <tr>\n",
       "      <th>count</th>\n",
       "      <td>623.000000</td>\n",
       "      <td>623.000000</td>\n",
       "      <td>623.000000</td>\n",
       "      <td>623.000000</td>\n",
       "      <td>623.000000</td>\n",
       "      <td>623.000000</td>\n",
       "      <td>623.000000</td>\n",
       "      <td>623.000000</td>\n",
       "    </tr>\n",
       "    <tr>\n",
       "      <th>mean</th>\n",
       "      <td>2.321027</td>\n",
       "      <td>0.356340</td>\n",
       "      <td>29.476726</td>\n",
       "      <td>32.906902</td>\n",
       "      <td>7.219904</td>\n",
       "      <td>0.882825</td>\n",
       "      <td>0.611557</td>\n",
       "      <td>0.391653</td>\n",
       "    </tr>\n",
       "    <tr>\n",
       "      <th>std</th>\n",
       "      <td>0.831257</td>\n",
       "      <td>0.479302</td>\n",
       "      <td>12.747827</td>\n",
       "      <td>54.358028</td>\n",
       "      <td>22.165226</td>\n",
       "      <td>1.643679</td>\n",
       "      <td>0.487788</td>\n",
       "      <td>0.488512</td>\n",
       "    </tr>\n",
       "    <tr>\n",
       "      <th>min</th>\n",
       "      <td>1.000000</td>\n",
       "      <td>0.000000</td>\n",
       "      <td>0.000000</td>\n",
       "      <td>0.000000</td>\n",
       "      <td>0.000000</td>\n",
       "      <td>0.000000</td>\n",
       "      <td>0.000000</td>\n",
       "      <td>0.000000</td>\n",
       "    </tr>\n",
       "    <tr>\n",
       "      <th>25%</th>\n",
       "      <td>2.000000</td>\n",
       "      <td>0.000000</td>\n",
       "      <td>22.000000</td>\n",
       "      <td>7.000000</td>\n",
       "      <td>0.000000</td>\n",
       "      <td>0.000000</td>\n",
       "      <td>0.000000</td>\n",
       "      <td>0.000000</td>\n",
       "    </tr>\n",
       "    <tr>\n",
       "      <th>50%</th>\n",
       "      <td>3.000000</td>\n",
       "      <td>0.000000</td>\n",
       "      <td>28.000000</td>\n",
       "      <td>14.000000</td>\n",
       "      <td>0.000000</td>\n",
       "      <td>0.000000</td>\n",
       "      <td>1.000000</td>\n",
       "      <td>0.000000</td>\n",
       "    </tr>\n",
       "    <tr>\n",
       "      <th>75%</th>\n",
       "      <td>3.000000</td>\n",
       "      <td>1.000000</td>\n",
       "      <td>35.000000</td>\n",
       "      <td>30.000000</td>\n",
       "      <td>1.000000</td>\n",
       "      <td>1.000000</td>\n",
       "      <td>1.000000</td>\n",
       "      <td>1.000000</td>\n",
       "    </tr>\n",
       "    <tr>\n",
       "      <th>max</th>\n",
       "      <td>3.000000</td>\n",
       "      <td>1.000000</td>\n",
       "      <td>80.000000</td>\n",
       "      <td>512.000000</td>\n",
       "      <td>77.000000</td>\n",
       "      <td>10.000000</td>\n",
       "      <td>1.000000</td>\n",
       "      <td>1.000000</td>\n",
       "    </tr>\n",
       "  </tbody>\n",
       "</table>\n",
       "</div>"
      ],
      "text/plain": [
       "           Pclass         Sex         Age        Fare    Embarked   relatives  \\\n",
       "count  623.000000  623.000000  623.000000  623.000000  623.000000  623.000000   \n",
       "mean     2.321027    0.356340   29.476726   32.906902    7.219904    0.882825   \n",
       "std      0.831257    0.479302   12.747827   54.358028   22.165226    1.643679   \n",
       "min      1.000000    0.000000    0.000000    0.000000    0.000000    0.000000   \n",
       "25%      2.000000    0.000000   22.000000    7.000000    0.000000    0.000000   \n",
       "50%      3.000000    0.000000   28.000000   14.000000    0.000000    0.000000   \n",
       "75%      3.000000    1.000000   35.000000   30.000000    1.000000    1.000000   \n",
       "max      3.000000    1.000000   80.000000  512.000000   77.000000   10.000000   \n",
       "\n",
       "          IsAlone       Label  \n",
       "count  623.000000  623.000000  \n",
       "mean     0.611557    0.391653  \n",
       "std      0.487788    0.488512  \n",
       "min      0.000000    0.000000  \n",
       "25%      0.000000    0.000000  \n",
       "50%      1.000000    0.000000  \n",
       "75%      1.000000    1.000000  \n",
       "max      1.000000    1.000000  "
      ]
     },
     "execution_count": 4,
     "metadata": {},
     "output_type": "execute_result"
    }
   ],
   "source": [
    "train_orig.describe()"
   ]
  },
  {
   "cell_type": "code",
   "execution_count": 5,
   "metadata": {
    "scrolled": false
   },
   "outputs": [
    {
     "data": {
      "text/html": [
       "<div>\n",
       "<style scoped>\n",
       "    .dataframe tbody tr th:only-of-type {\n",
       "        vertical-align: middle;\n",
       "    }\n",
       "\n",
       "    .dataframe tbody tr th {\n",
       "        vertical-align: top;\n",
       "    }\n",
       "\n",
       "    .dataframe thead th {\n",
       "        text-align: right;\n",
       "    }\n",
       "</style>\n",
       "<table border=\"1\" class=\"dataframe\">\n",
       "  <thead>\n",
       "    <tr style=\"text-align: right;\">\n",
       "      <th></th>\n",
       "      <th>Pclass</th>\n",
       "      <th>Sex</th>\n",
       "      <th>Age</th>\n",
       "      <th>Fare</th>\n",
       "      <th>Embarked</th>\n",
       "      <th>relatives</th>\n",
       "      <th>IsAlone</th>\n",
       "      <th>Label</th>\n",
       "    </tr>\n",
       "  </thead>\n",
       "  <tbody>\n",
       "    <tr>\n",
       "      <th>count</th>\n",
       "      <td>268.000000</td>\n",
       "      <td>268.000000</td>\n",
       "      <td>268.000000</td>\n",
       "      <td>268.000000</td>\n",
       "      <td>268.000000</td>\n",
       "      <td>268.000000</td>\n",
       "      <td>268.000000</td>\n",
       "      <td>268.000000</td>\n",
       "    </tr>\n",
       "    <tr>\n",
       "      <th>mean</th>\n",
       "      <td>2.279851</td>\n",
       "      <td>0.343284</td>\n",
       "      <td>29.041045</td>\n",
       "      <td>29.179104</td>\n",
       "      <td>5.966418</td>\n",
       "      <td>0.955224</td>\n",
       "      <td>0.582090</td>\n",
       "      <td>0.365672</td>\n",
       "    </tr>\n",
       "    <tr>\n",
       "      <th>std</th>\n",
       "      <td>0.848023</td>\n",
       "      <td>0.475694</td>\n",
       "      <td>13.677471</td>\n",
       "      <td>36.628687</td>\n",
       "      <td>20.214088</td>\n",
       "      <td>1.542728</td>\n",
       "      <td>0.494138</td>\n",
       "      <td>0.482519</td>\n",
       "    </tr>\n",
       "    <tr>\n",
       "      <th>min</th>\n",
       "      <td>1.000000</td>\n",
       "      <td>0.000000</td>\n",
       "      <td>0.000000</td>\n",
       "      <td>0.000000</td>\n",
       "      <td>0.000000</td>\n",
       "      <td>0.000000</td>\n",
       "      <td>0.000000</td>\n",
       "      <td>0.000000</td>\n",
       "    </tr>\n",
       "    <tr>\n",
       "      <th>25%</th>\n",
       "      <td>1.000000</td>\n",
       "      <td>0.000000</td>\n",
       "      <td>21.750000</td>\n",
       "      <td>7.000000</td>\n",
       "      <td>0.000000</td>\n",
       "      <td>0.000000</td>\n",
       "      <td>0.000000</td>\n",
       "      <td>0.000000</td>\n",
       "    </tr>\n",
       "    <tr>\n",
       "      <th>50%</th>\n",
       "      <td>3.000000</td>\n",
       "      <td>0.000000</td>\n",
       "      <td>28.000000</td>\n",
       "      <td>15.000000</td>\n",
       "      <td>0.000000</td>\n",
       "      <td>0.000000</td>\n",
       "      <td>1.000000</td>\n",
       "      <td>0.000000</td>\n",
       "    </tr>\n",
       "    <tr>\n",
       "      <th>75%</th>\n",
       "      <td>3.000000</td>\n",
       "      <td>1.000000</td>\n",
       "      <td>35.000000</td>\n",
       "      <td>31.000000</td>\n",
       "      <td>1.000000</td>\n",
       "      <td>1.000000</td>\n",
       "      <td>1.000000</td>\n",
       "      <td>1.000000</td>\n",
       "    </tr>\n",
       "    <tr>\n",
       "      <th>max</th>\n",
       "      <td>3.000000</td>\n",
       "      <td>1.000000</td>\n",
       "      <td>74.000000</td>\n",
       "      <td>247.000000</td>\n",
       "      <td>77.000000</td>\n",
       "      <td>7.000000</td>\n",
       "      <td>1.000000</td>\n",
       "      <td>1.000000</td>\n",
       "    </tr>\n",
       "  </tbody>\n",
       "</table>\n",
       "</div>"
      ],
      "text/plain": [
       "           Pclass         Sex         Age        Fare    Embarked   relatives  \\\n",
       "count  268.000000  268.000000  268.000000  268.000000  268.000000  268.000000   \n",
       "mean     2.279851    0.343284   29.041045   29.179104    5.966418    0.955224   \n",
       "std      0.848023    0.475694   13.677471   36.628687   20.214088    1.542728   \n",
       "min      1.000000    0.000000    0.000000    0.000000    0.000000    0.000000   \n",
       "25%      1.000000    0.000000   21.750000    7.000000    0.000000    0.000000   \n",
       "50%      3.000000    0.000000   28.000000   15.000000    0.000000    0.000000   \n",
       "75%      3.000000    1.000000   35.000000   31.000000    1.000000    1.000000   \n",
       "max      3.000000    1.000000   74.000000  247.000000   77.000000    7.000000   \n",
       "\n",
       "          IsAlone       Label  \n",
       "count  268.000000  268.000000  \n",
       "mean     0.582090    0.365672  \n",
       "std      0.494138    0.482519  \n",
       "min      0.000000    0.000000  \n",
       "25%      0.000000    0.000000  \n",
       "50%      1.000000    0.000000  \n",
       "75%      1.000000    1.000000  \n",
       "max      1.000000    1.000000  "
      ]
     },
     "execution_count": 5,
     "metadata": {},
     "output_type": "execute_result"
    }
   ],
   "source": [
    "test_orig.describe()"
   ]
  },
  {
   "cell_type": "markdown",
   "metadata": {},
   "source": [
    "# Question 1"
   ]
  },
  {
   "cell_type": "code",
   "execution_count": 6,
   "metadata": {},
   "outputs": [
    {
     "name": "stderr",
     "output_type": "stream",
     "text": [
      "100%|██████████| 4/4 [00:00<00:00, 85.78it/s]"
     ]
    },
    {
     "name": "stdout",
     "output_type": "stream",
     "text": [
      "--------------------------------------------------\n",
      "Size: 40\n",
      "Mean:\n",
      "Pclass        2.349398\n",
      "Sex           0.345382\n",
      "Age          29.341365\n",
      "Fare         32.542169\n",
      "Embarked      6.361446\n",
      "relatives     0.871486\n",
      "IsAlone       0.626506\n",
      "Label         0.341365\n",
      "dtype: float64\n",
      "--------------------------------------------------\n",
      "Size: 60\n",
      "Mean:\n",
      "Pclass        2.337802\n",
      "Sex           0.340483\n",
      "Age          29.589812\n",
      "Fare         30.903485\n",
      "Embarked      6.772118\n",
      "relatives     0.804290\n",
      "IsAlone       0.632708\n",
      "Label         0.361930\n",
      "dtype: float64\n",
      "--------------------------------------------------\n",
      "Size: 80\n",
      "Mean:\n",
      "Pclass        2.333333\n",
      "Sex           0.345382\n",
      "Age          29.208835\n",
      "Fare         31.947791\n",
      "Embarked      6.652610\n",
      "relatives     0.851406\n",
      "IsAlone       0.622490\n",
      "Label         0.375502\n",
      "dtype: float64\n",
      "--------------------------------------------------\n",
      "Size: 90\n",
      "Mean:\n",
      "Pclass        2.312500\n",
      "Sex           0.344643\n",
      "Age          29.496429\n",
      "Fare         32.237500\n",
      "Embarked      6.769643\n",
      "relatives     0.860714\n",
      "IsAlone       0.614286\n",
      "Label         0.378571\n",
      "dtype: float64\n"
     ]
    },
    {
     "name": "stderr",
     "output_type": "stream",
     "text": [
      "\n"
     ]
    }
   ],
   "source": [
    "np.random.seed(0)  # just in case\n",
    "\n",
    "training_sizes = [40, 60, 80, 90]\n",
    "\n",
    "train_acc = []\n",
    "test_acc = []\n",
    "node_number = []\n",
    "\n",
    "for size in tqdm(training_sizes):\n",
    "    train, _ = split_dataframe(train_orig, size/100)\n",
    "    print('-' * 50)\n",
    "    print(\"Size:\", size)\n",
    "    print(\"Mean:\")\n",
    "    print(train.mean())\n",
    "\n",
    "    model = DecisionTreeClassifier(criterion='entropy', random_state=0)\n",
    "    model.fit(train.drop('Label', axis=1), train['Label'])\n",
    "\n",
    "    train_acc.append(model.score(train.drop('Label', axis=1), train['Label']))\n",
    "    test_acc.append(model.score(test_orig.drop('Label', axis=1), test_orig['Label']))\n",
    "    node_number.append(model.tree_.node_count)"
   ]
  },
  {
   "cell_type": "code",
   "execution_count": 7,
   "metadata": {},
   "outputs": [
    {
     "data": {
      "image/png": "[encoded data removed]",
      "text/plain": [
       "<Figure size 432x288 with 2 Axes>"
      ]
     },
     "metadata": {
      "needs_background": "light"
     },
     "output_type": "display_data"
    }
   ],
   "source": []
  },
  {
   "cell_type": "code",
   "execution_count": 8,
   "metadata": {},
   "outputs": [
    {
     "data": {
      "text/plain": [
       "[0.9718875502008032,\n",
       " 0.9731903485254692,\n",
       " 0.9658634538152611,\n",
       " 0.9678571428571429]"
      ]
     },
     "execution_count": 8,
     "metadata": {},
     "output_type": "execute_result"
    }
   ],
   "source": [
    "train_acc"
   ]
  },
  {
   "cell_type": "code",
   "execution_count": 9,
   "metadata": {},
   "outputs": [
    {
     "data": {
      "text/plain": [
       "[0.7835820895522388,\n",
       " 0.7761194029850746,\n",
       " 0.7686567164179104,\n",
       " 0.7761194029850746]"
      ]
     },
     "execution_count": 9,
     "metadata": {},
     "output_type": "execute_result"
    }
   ],
   "source": [
    "test_acc"
   ]
  },
  {
   "cell_type": "code",
   "execution_count": 10,
   "metadata": {},
   "outputs": [
    {
     "data": {
      "text/plain": [
       "[119, 171, 223, 255]"
      ]
     },
     "execution_count": 10,
     "metadata": {},
     "output_type": "execute_result"
    }
   ],
   "source": [
    "node_number"
   ]
  },
  {
   "cell_type": "markdown",
   "metadata": {},
   "source": [
    "# Question 2"
   ]
  },
  {
   "cell_type": "code",
   "execution_count": 11,
   "metadata": {},
   "outputs": [
    {
     "data": {
      "text/html": [
       "<div>\n",
       "<style scoped>\n",
       "    .dataframe tbody tr th:only-of-type {\n",
       "        vertical-align: middle;\n",
       "    }\n",
       "\n",
       "    .dataframe tbody tr th {\n",
       "        vertical-align: top;\n",
       "    }\n",
       "\n",
       "    .dataframe thead th {\n",
       "        text-align: right;\n",
       "    }\n",
       "</style>\n",
       "<table border=\"1\" class=\"dataframe\">\n",
       "  <thead>\n",
       "    <tr style=\"text-align: right;\">\n",
       "      <th></th>\n",
       "      <th>Pclass</th>\n",
       "      <th>Sex</th>\n",
       "      <th>Age</th>\n",
       "      <th>Fare</th>\n",
       "      <th>Embarked</th>\n",
       "      <th>relatives</th>\n",
       "      <th>IsAlone</th>\n",
       "      <th>Label</th>\n",
       "    </tr>\n",
       "  </thead>\n",
       "  <tbody>\n",
       "    <tr>\n",
       "      <th>count</th>\n",
       "      <td>125.000000</td>\n",
       "      <td>125.000000</td>\n",
       "      <td>125.000000</td>\n",
       "      <td>125.00000</td>\n",
       "      <td>125.000000</td>\n",
       "      <td>125.000000</td>\n",
       "      <td>125.000000</td>\n",
       "      <td>125.000000</td>\n",
       "    </tr>\n",
       "    <tr>\n",
       "      <th>mean</th>\n",
       "      <td>2.272000</td>\n",
       "      <td>0.400000</td>\n",
       "      <td>30.544000</td>\n",
       "      <td>36.72800</td>\n",
       "      <td>9.480000</td>\n",
       "      <td>1.008000</td>\n",
       "      <td>0.568000</td>\n",
       "      <td>0.456000</td>\n",
       "    </tr>\n",
       "    <tr>\n",
       "      <th>std</th>\n",
       "      <td>0.846015</td>\n",
       "      <td>0.491869</td>\n",
       "      <td>14.417454</td>\n",
       "      <td>61.76221</td>\n",
       "      <td>25.037263</td>\n",
       "      <td>1.766608</td>\n",
       "      <td>0.497348</td>\n",
       "      <td>0.500065</td>\n",
       "    </tr>\n",
       "    <tr>\n",
       "      <th>min</th>\n",
       "      <td>1.000000</td>\n",
       "      <td>0.000000</td>\n",
       "      <td>0.000000</td>\n",
       "      <td>0.00000</td>\n",
       "      <td>0.000000</td>\n",
       "      <td>0.000000</td>\n",
       "      <td>0.000000</td>\n",
       "      <td>0.000000</td>\n",
       "    </tr>\n",
       "    <tr>\n",
       "      <th>25%</th>\n",
       "      <td>1.000000</td>\n",
       "      <td>0.000000</td>\n",
       "      <td>24.000000</td>\n",
       "      <td>8.00000</td>\n",
       "      <td>0.000000</td>\n",
       "      <td>0.000000</td>\n",
       "      <td>0.000000</td>\n",
       "      <td>0.000000</td>\n",
       "    </tr>\n",
       "    <tr>\n",
       "      <th>50%</th>\n",
       "      <td>3.000000</td>\n",
       "      <td>0.000000</td>\n",
       "      <td>28.000000</td>\n",
       "      <td>15.00000</td>\n",
       "      <td>0.000000</td>\n",
       "      <td>0.000000</td>\n",
       "      <td>1.000000</td>\n",
       "      <td>0.000000</td>\n",
       "    </tr>\n",
       "    <tr>\n",
       "      <th>75%</th>\n",
       "      <td>3.000000</td>\n",
       "      <td>1.000000</td>\n",
       "      <td>35.000000</td>\n",
       "      <td>34.00000</td>\n",
       "      <td>1.000000</td>\n",
       "      <td>1.000000</td>\n",
       "      <td>1.000000</td>\n",
       "      <td>1.000000</td>\n",
       "    </tr>\n",
       "    <tr>\n",
       "      <th>max</th>\n",
       "      <td>3.000000</td>\n",
       "      <td>1.000000</td>\n",
       "      <td>80.000000</td>\n",
       "      <td>512.00000</td>\n",
       "      <td>77.000000</td>\n",
       "      <td>10.000000</td>\n",
       "      <td>1.000000</td>\n",
       "      <td>1.000000</td>\n",
       "    </tr>\n",
       "  </tbody>\n",
       "</table>\n",
       "</div>"
      ],
      "text/plain": [
       "           Pclass         Sex         Age       Fare    Embarked   relatives  \\\n",
       "count  125.000000  125.000000  125.000000  125.00000  125.000000  125.000000   \n",
       "mean     2.272000    0.400000   30.544000   36.72800    9.480000    1.008000   \n",
       "std      0.846015    0.491869   14.417454   61.76221   25.037263    1.766608   \n",
       "min      1.000000    0.000000    0.000000    0.00000    0.000000    0.000000   \n",
       "25%      1.000000    0.000000   24.000000    8.00000    0.000000    0.000000   \n",
       "50%      3.000000    0.000000   28.000000   15.00000    0.000000    0.000000   \n",
       "75%      3.000000    1.000000   35.000000   34.00000    1.000000    1.000000   \n",
       "max      3.000000    1.000000   80.000000  512.00000   77.000000   10.000000   \n",
       "\n",
       "          IsAlone       Label  \n",
       "count  125.000000  125.000000  \n",
       "mean     0.568000    0.456000  \n",
       "std      0.497348    0.500065  \n",
       "min      0.000000    0.000000  \n",
       "25%      0.000000    0.000000  \n",
       "50%      1.000000    0.000000  \n",
       "75%      1.000000    1.000000  \n",
       "max      1.000000    1.000000  "
      ]
     },
     "execution_count": 11,
     "metadata": {},
     "output_type": "execute_result"
    }
   ],
   "source": [
    "_, validation = split_dataframe(train_orig, 1 - 20/100)\n",
    "validation.describe()"
   ]
  },
  {
   "cell_type": "code",
   "execution_count": 12,
   "metadata": {},
   "outputs": [
    {
     "name": "stderr",
     "output_type": "stream",
     "text": [
      "100%|██████████| 5/5 [00:00<00:00, 41.51it/s]"
     ]
    },
    {
     "name": "stdout",
     "output_type": "stream",
     "text": [
      "--------------------------------------------------\n",
      "Size: 40\n",
      "Mean:\n",
      "Pclass        2.349398\n",
      "Sex           0.345382\n",
      "Age          29.341365\n",
      "Fare         32.542169\n",
      "Embarked      6.361446\n",
      "relatives     0.871486\n",
      "IsAlone       0.626506\n",
      "Label         0.341365\n",
      "dtype: float64\n",
      "Accuracy: 0.792 Depth: 5 Nodes: 31\n",
      "Accuracy: 0.776 Depth: 10 Nodes: 89\n",
      "Accuracy: 0.768 Depth: 15 Nodes: 117\n",
      "Accuracy: 0.768 Depth: 20 Nodes: 119\n",
      "--------------------------------------------------\n",
      "Size: 50\n",
      "Mean:\n",
      "Pclass        2.347267\n",
      "Sex           0.340836\n",
      "Age          29.331190\n",
      "Fare         32.170418\n",
      "Embarked      6.360129\n",
      "relatives     0.864952\n",
      "IsAlone       0.617363\n",
      "Label         0.356913\n",
      "dtype: float64\n",
      "Accuracy: 0.824 Depth: 5 Nodes: 35\n",
      "Accuracy: 0.784 Depth: 10 Nodes: 101\n",
      "Accuracy: 0.76 Depth: 15 Nodes: 149\n",
      "Accuracy: 0.752 Depth: 20 Nodes: 153\n",
      "--------------------------------------------------\n",
      "Size: 60\n",
      "Mean:\n",
      "Pclass        2.337802\n",
      "Sex           0.340483\n",
      "Age          29.589812\n",
      "Fare         30.903485\n",
      "Embarked      6.772118\n",
      "relatives     0.804290\n",
      "IsAlone       0.632708\n",
      "Label         0.361930\n",
      "dtype: float64\n",
      "Accuracy: 0.808 Depth: 5 Nodes: 37\n",
      "Accuracy: 0.8 Depth: 10 Nodes: 115\n",
      "Accuracy: 0.792 Depth: 15 Nodes: 165\n",
      "Accuracy: 0.784 Depth: 20 Nodes: 171\n",
      "--------------------------------------------------\n",
      "Size: 70\n",
      "Mean:\n",
      "Pclass        2.337156\n",
      "Sex           0.344037\n",
      "Age          29.110092\n",
      "Fare         30.814220\n",
      "Embarked      6.690367\n",
      "relatives     0.827982\n",
      "IsAlone       0.628440\n",
      "Label         0.369266\n",
      "dtype: float64\n",
      "Accuracy: 0.8 Depth: 5 Nodes: 37\n",
      "Accuracy: 0.76 Depth: 10 Nodes: 119\n",
      "Accuracy: 0.736 Depth: 15 Nodes: 189\n",
      "Accuracy: 0.736 Depth: 20 Nodes: 195\n",
      "--------------------------------------------------\n",
      "Size: 80\n",
      "Mean:\n",
      "Pclass        2.333333\n",
      "Sex           0.345382\n",
      "Age          29.208835\n",
      "Fare         31.947791\n",
      "Embarked      6.652610\n",
      "relatives     0.851406\n",
      "IsAlone       0.622490\n",
      "Label         0.375502\n",
      "dtype: float64\n",
      "Accuracy: 0.784 Depth: 5 Nodes: 33\n",
      "Accuracy: 0.752 Depth: 10 Nodes: 137\n",
      "Accuracy: 0.752 Depth: 15 Nodes: 213\n",
      "Accuracy: 0.776 Depth: 20 Nodes: 223\n"
     ]
    },
    {
     "name": "stderr",
     "output_type": "stream",
     "text": [
      "\n"
     ]
    }
   ],
   "source": [
    "training_sizes = [40, 50, 60, 70, 80]\n",
    "depths = [5, 10, 15, 20]\n",
    "\n",
    "train_acc = []\n",
    "test_acc = []\n",
    "node_number = []\n",
    "optimal_depth = []\n",
    "\n",
    "for size in tqdm(training_sizes):\n",
    "    best_val_accuracy = None\n",
    "\n",
    "    best_depth = None\n",
    "    test_accuracy = None\n",
    "    train_accuracy = None\n",
    "    node_count = None\n",
    "\n",
    "    train, _ = split_dataframe(train_orig, size/100)\n",
    "    \n",
    "    print('-' * 50)\n",
    "    print(\"Size:\", size)\n",
    "    print(\"Mean:\")\n",
    "    print(train.mean())\n",
    "\n",
    "    for depth in depths:\n",
    "        model = DecisionTreeClassifier(criterion='entropy', random_state=0, max_depth=depth)\n",
    "        model.fit(train.drop('Label', axis=1), train['Label'])\n",
    "\n",
    "        new_val_accuracy = model.score(validation.drop('Label', axis=1), validation['Label'])\n",
    "        \n",
    "        print(\"Accuracy:\", new_val_accuracy, \"Depth:\", depth, \"Nodes:\", model.tree_.node_count)\n",
    "        \n",
    "        if not best_val_accuracy or best_val_accuracy < new_val_accuracy:\n",
    "            best_val_accuracy = new_val_accuracy\n",
    "            best_depth = depth\n",
    "\n",
    "            test_accuracy = model.score(test_orig.drop('Label', axis=1), test_orig['Label'])\n",
    "            train_accuracy = model.score(train.drop('Label', axis=1), train['Label'])\n",
    "            node_count = model.tree_.node_count\n",
    "\n",
    "    train_acc.append(train_accuracy)\n",
    "    test_acc.append(test_accuracy)\n",
    "    node_number.append(node_count)\n",
    "    optimal_depth.append(best_depth)"
   ]
  },
  {
   "cell_type": "code",
   "execution_count": 13,
   "metadata": {},
   "outputs": [
    {
     "data": {
      "image/png": "[encoded data removed]",
      "text/plain": [
       "<Figure size 432x288 with 3 Axes>"
      ]
     },
     "metadata": {
      "needs_background": "light"
     },
     "output_type": "display_data"
    }
   ],
   "source": []
  },
  {
   "cell_type": "code",
   "execution_count": 14,
   "metadata": {},
   "outputs": [
    {
     "data": {
      "text/plain": [
       "[0.8714859437751004,\n",
       " 0.8617363344051447,\n",
       " 0.8605898123324397,\n",
       " 0.8509174311926605,\n",
       " 0.8453815261044176]"
      ]
     },
     "execution_count": 14,
     "metadata": {},
     "output_type": "execute_result"
    }
   ],
   "source": [
    "train_acc"
   ]
  },
  {
   "cell_type": "code",
   "execution_count": 15,
   "metadata": {},
   "outputs": [
    {
     "data": {
      "text/plain": [
       "[0.8059701492537313,\n",
       " 0.8059701492537313,\n",
       " 0.832089552238806,\n",
       " 0.8022388059701493,\n",
       " 0.8208955223880597]"
      ]
     },
     "execution_count": 15,
     "metadata": {},
     "output_type": "execute_result"
    }
   ],
   "source": [
    "test_acc"
   ]
  },
  {
   "cell_type": "code",
   "execution_count": 16,
   "metadata": {},
   "outputs": [
    {
     "data": {
      "text/plain": [
       "[31, 35, 37, 37, 33]"
      ]
     },
     "execution_count": 16,
     "metadata": {},
     "output_type": "execute_result"
    }
   ],
   "source": [
    "node_number"
   ]
  },
  {
   "cell_type": "code",
   "execution_count": 17,
   "metadata": {},
   "outputs": [
    {
     "data": {
      "text/plain": [
       "[5, 5, 5, 5, 5]"
      ]
     },
     "execution_count": 17,
     "metadata": {},
     "output_type": "execute_result"
    }
   ],
   "source": [
    "optimal_depth"
   ]
  }
 ],
 "metadata": {
  "kernelspec": {
   "display_name": "Python 3",
   "language": "python",
   "name": "python3"
  },
  "language_info": {
   "codemirror_mode": {
    "name": "ipython",
    "version": 3
   },
   "file_extension": ".py",
   "mimetype": "text/x-python",
   "name": "python",
   "nbconvert_exporter": "python",
   "pygments_lexer": "ipython3",
   "version": "3.6.8"
  }
 },
 "nbformat": 4,
 "nbformat_minor": 2
}
